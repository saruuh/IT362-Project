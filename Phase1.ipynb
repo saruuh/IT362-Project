{
 "cells": [
  {
   "cell_type": "markdown",
   "id": "98c3c584",
   "metadata": {},
   "source": [
    "# Data Colllection"
   ]
  },
  {
   "cell_type": "markdown",
   "id": "95ac449a",
   "metadata": {},
   "source": [
    "## EM-DAT: The International Disaster Database"
   ]
  },
  {
   "cell_type": "markdown",
   "id": "cfd8957e",
   "metadata": {},
   "source": [
    "#### The EM-DAT Public Table is a global disaster database maintained by CRED, tracking natural and technological disasters. It includes data on fatalities, affected populations, and economic damages, and is used for research and disaster management."
   ]
  },
  {
   "cell_type": "code",
   "execution_count": 1,
   "id": "f20b4f6a",
   "metadata": {},
   "outputs": [
    {
     "name": "stdout",
     "output_type": "stream",
     "text": [
      "Collecting openpyxl\n",
      "  Downloading openpyxl-3.1.5-py2.py3-none-any.whl.metadata (2.5 kB)\n",
      "Collecting et-xmlfile (from openpyxl)\n",
      "  Downloading et_xmlfile-2.0.0-py3-none-any.whl.metadata (2.7 kB)\n",
      "Downloading openpyxl-3.1.5-py2.py3-none-any.whl (250 kB)\n",
      "Downloading et_xmlfile-2.0.0-py3-none-any.whl (18 kB)\n",
      "Installing collected packages: et-xmlfile, openpyxl\n",
      "Successfully installed et-xmlfile-2.0.0 openpyxl-3.1.5\n",
      "\n",
      "\u001b[1m[\u001b[0m\u001b[34;49mnotice\u001b[0m\u001b[1;39;49m]\u001b[0m\u001b[39;49m A new release of pip is available: \u001b[0m\u001b[31;49m24.3.1\u001b[0m\u001b[39;49m -> \u001b[0m\u001b[32;49m25.0\u001b[0m\n",
      "\u001b[1m[\u001b[0m\u001b[34;49mnotice\u001b[0m\u001b[1;39;49m]\u001b[0m\u001b[39;49m To update, run: \u001b[0m\u001b[32;49mpython3 -m pip install --upgrade pip\u001b[0m\n"
     ]
    }
   ],
   "source": [
    "!pip install openpyxl"
   ]
  },
  {
   "cell_type": "code",
   "execution_count": 2,
   "id": "6134a5e6",
   "metadata": {},
   "outputs": [
    {
     "name": "stdout",
     "output_type": "stream",
     "text": [
      "          DisNo. Historic Classification Key Disaster Group Disaster Subgroup  \\\n",
      "0  1999-9388-DJI       No    nat-cli-dro-dro        Natural    Climatological   \n",
      "1  1999-9388-SDN       No    nat-cli-dro-dro        Natural    Climatological   \n",
      "2  1999-9388-SOM       No    nat-cli-dro-dro        Natural    Climatological   \n",
      "3  2000-0001-AGO       No    tec-tra-roa-roa  Technological         Transport   \n",
      "4  2000-0002-AGO       No    nat-hyd-flo-riv        Natural      Hydrological   \n",
      "\n",
      "  Disaster Type Disaster Subtype External IDs Event Name  ISO  ...  \\\n",
      "0       Drought          Drought          NaN        NaN  DJI  ...   \n",
      "1       Drought          Drought          NaN        NaN  SDN  ...   \n",
      "2       Drought          Drought          NaN        NaN  SOM  ...   \n",
      "3          Road             Road          NaN        NaN  AGO  ...   \n",
      "4         Flood   Riverine flood          NaN        NaN  AGO  ...   \n",
      "\n",
      "  Reconstruction Costs ('000 US$) Reconstruction Costs, Adjusted ('000 US$)  \\\n",
      "0                             NaN                                       NaN   \n",
      "1                             NaN                                       NaN   \n",
      "2                             NaN                                       NaN   \n",
      "3                             NaN                                       NaN   \n",
      "4                             NaN                                       NaN   \n",
      "\n",
      "  Insured Damage ('000 US$) Insured Damage, Adjusted ('000 US$)  \\\n",
      "0                       NaN                                 NaN   \n",
      "1                       NaN                                 NaN   \n",
      "2                       NaN                                 NaN   \n",
      "3                       NaN                                 NaN   \n",
      "4                       NaN                                 NaN   \n",
      "\n",
      "  Total Damage ('000 US$) Total Damage, Adjusted ('000 US$)        CPI  \\\n",
      "0                     NaN                               NaN  58.111474   \n",
      "1                     NaN                               NaN  56.514291   \n",
      "2                     NaN                               NaN  56.514291   \n",
      "3                     NaN                               NaN  56.514291   \n",
      "4                 10000.0                           17695.0  56.514291   \n",
      "\n",
      "                                         Admin Units  Entry Date  Last Update  \n",
      "0  [{\"adm1_code\":1093,\"adm1_name\":\"Ali Sabieh\"},{...  2006-03-01   2023-09-25  \n",
      "1  [{\"adm1_code\":2757,\"adm1_name\":\"Northern Darfu...  2006-03-08   2023-09-25  \n",
      "2  [{\"adm1_code\":2691,\"adm1_name\":\"Bay\"},{\"adm1_c...  2006-03-08   2023-09-25  \n",
      "3                                                NaN  2004-10-27   2023-09-25  \n",
      "4  [{\"adm2_code\":4214,\"adm2_name\":\"Baia Farta\"},{...  2005-02-03   2023-09-25  \n",
      "\n",
      "[5 rows x 46 columns]\n"
     ]
    }
   ],
   "source": [
    "import pandas as pd\n",
    "\n",
    "df1 = pd.read_excel(\"Datasets/emdat.xlsx\")\n",
    "print(df1.head())"
   ]
  },
  {
   "cell_type": "markdown",
   "id": "a74994bc",
   "metadata": {},
   "source": [
    "## Kaggle Dataset : ALL NATURAL DISASTERS 1900-2021 / EOSDIS"
   ]
  },
  {
   "cell_type": "markdown",
   "id": "26dfdc1a",
   "metadata": {},
   "source": [
    "#### This dataset, hosted on Kaggle, provides a record of natural disasters worldwide from 1900 to 2021, sourced from NASA's Earth Observing System Data and Information System (EOSDIS). It includes details such as disaster type, location, dates, and impacts (e.g., fatalities, affected populations, and economic damages), making it useful for analyzing historical disaster trends and impacts."
   ]
  },
  {
   "cell_type": "code",
   "execution_count": 3,
   "id": "bd0309ba",
   "metadata": {},
   "outputs": [
    {
     "name": "stdout",
     "output_type": "stream",
     "text": [
      "   Year   Seq Glide Disaster Group Disaster Subgroup      Disaster Type  \\\n",
      "0  1900  9002   NaN        Natural    Climatological            Drought   \n",
      "1  1900  9001   NaN        Natural    Climatological            Drought   \n",
      "2  1902    12   NaN        Natural       Geophysical         Earthquake   \n",
      "3  1902     3   NaN        Natural       Geophysical  Volcanic activity   \n",
      "4  1902    10   NaN        Natural       Geophysical  Volcanic activity   \n",
      "\n",
      "  Disaster Subtype Disaster Subsubtype   Event Name     Country  ...  \\\n",
      "0          Drought                 NaN          NaN  Cabo Verde  ...   \n",
      "1          Drought                 NaN          NaN       India  ...   \n",
      "2  Ground movement                 NaN          NaN   Guatemala  ...   \n",
      "3         Ash fall                 NaN  Santa Maria   Guatemala  ...   \n",
      "4         Ash fall                 NaN  Santa Maria   Guatemala  ...   \n",
      "\n",
      "  No Affected No Homeless Total Affected Insured Damages ('000 US$)  \\\n",
      "0         NaN         NaN            NaN                        NaN   \n",
      "1         NaN         NaN            NaN                        NaN   \n",
      "2         NaN         NaN            NaN                        NaN   \n",
      "3         NaN         NaN            NaN                        NaN   \n",
      "4         NaN         NaN            NaN                        NaN   \n",
      "\n",
      "  Total Damages ('000 US$)       CPI Adm Level Admin1 Code Admin2 Code  \\\n",
      "0                      NaN  3.221647       NaN         NaN         NaN   \n",
      "1                      NaN  3.221647       NaN         NaN         NaN   \n",
      "2                  25000.0  3.350513       NaN         NaN         NaN   \n",
      "3                      NaN  3.350513       NaN         NaN         NaN   \n",
      "4                      NaN  3.350513       NaN         NaN         NaN   \n",
      "\n",
      "  Geo Locations  \n",
      "0           NaN  \n",
      "1           NaN  \n",
      "2           NaN  \n",
      "3           NaN  \n",
      "4           NaN  \n",
      "\n",
      "[5 rows x 45 columns]\n"
     ]
    }
   ],
   "source": [
    "df2 = pd.read_csv(\"Datasets/EOSDIS.csv\")\n",
    "print(df2.head())"
   ]
  },
  {
   "cell_type": "markdown",
   "id": "cbbb9d1d",
   "metadata": {},
   "source": [
    "### Global Disaster Alert and Coordination System (GDACS)"
   ]
  },
  {
   "cell_type": "code",
   "execution_count": null,
   "id": "89f8c757",
   "metadata": {},
   "outputs": [
    {
     "name": "stdout",
     "output_type": "stream",
     "text": [
      "  Event Name                  Country  ISO Disaster Group  Latitude  \\\n",
      "0                                                      EQ  -19.0936   \n",
      "1                              Greece  GRC             EQ   36.6542   \n",
      "2                                                      EQ  -11.4468   \n",
      "3   VINCE-25  Cocos (Keeling) Islands                  TC  -18.7900   \n",
      "4  TALIAH-25                                           TC  -14.8000   \n",
      "\n",
      "   Longitude Start Year Start Month Start Day End Year End Month End Day  \\\n",
      "0  -172.6221       2025          02        05     2025        02      05   \n",
      "1    25.6259       2025          02        05     2025        02      05   \n",
      "2   117.2370       2025          02        05     2025        02      05   \n",
      "3    83.9100       2025          02        01     2025        02      05   \n",
      "4   106.0000       2025          02        02     2025        02      05   \n",
      "\n",
      "  Magnitude Losses  \n",
      "0      None   None  \n",
      "1      None   None  \n",
      "2      None   None  \n",
      "3      None   None  \n",
      "4      None   None  \n"
     ]
    }
   ],
   "source": [
    "import requests\n",
    "import pandas as pd\n",
    "\n",
    "# GDACS API URL for latest events\n",
    "GDACS_URL = \"https://www.gdacs.org/gdacsapi/api/events/geteventlist/EVENTS4APP\"\n",
    "\n",
    "def fetch_gdacs_data():\n",
    "    \"\"\"Fetches disaster event data from GDACS API.\"\"\"\n",
    "    \n",
    "    response = requests.get(GDACS_URL)\n",
    "    if response.status_code != 200:\n",
    "        raise Exception(\"Failed to fetch data from GDACS API\")\n",
    "    \n",
    "    data = response.json()[\"features\"]  # Extract event list\n",
    "    \n",
    "    # Extract relevant details\n",
    "    events = []\n",
    "    for event in data:\n",
    "        properties = event[\"properties\"]\n",
    "        \n",
    "        # Append event details to list\n",
    "        events.append({\n",
    "            \"Event Name\": properties[\"eventname\"],\n",
    "            \"Country\": properties[\"country\"],\n",
    "            \"ISO\": properties[\"iso3\"],\n",
    "            \"Disaster Group\": properties[\"eventtype\"],\n",
    "            \"Latitude\": event[\"geometry\"][\"coordinates\"][1],  # Lat from GeoJSON\n",
    "            \"Longitude\": event[\"geometry\"][\"coordinates\"][0],  # Lon from GeoJSON\n",
    "            \"Start Year\": properties[\"fromdate\"][:4],  # Extract year from date\n",
    "            \"Start Month\": properties[\"fromdate\"][5:7],  # Extract month\n",
    "            \"Start Day\": properties[\"fromdate\"][8:10],  # Extract day\n",
    "            \"End Year\": properties[\"todate\"][:4] if properties[\"todate\"] else None,\n",
    "            \"End Month\": properties[\"todate\"][5:7] if properties[\"todate\"] else None,\n",
    "            \"End Day\": properties[\"todate\"][8:10] if properties[\"todate\"] else None,\n",
    "            \"Magnitude\": properties.get(\"magnitude\"),\n",
    "            \"Losses\": properties.get(\"economicloss\", None) \n",
    "        })\n",
    "    \n",
    "    return pd.DataFrame(events)\n",
    "\n",
    "# Fetch GDACS data\n",
    "gdacs_df = fetch_gdacs_data()\n",
    "\n",
    "# Display the first few rows\n",
    "print(gdacs_df.head())\n",
    "\n",
    "# Save to CSV (optional)\n",
    "gdacs_df.to_csv(\"gdacs_disaster_data.csv\", index=False)\n",
    "\n",
    "\n"
   ]
  }
 ],
 "metadata": {
  "kernelspec": {
   "display_name": "Python 3",
   "language": "python",
   "name": "python3"
  },
  "language_info": {
   "codemirror_mode": {
    "name": "ipython",
    "version": 3
   },
   "file_extension": ".py",
   "mimetype": "text/x-python",
   "name": "python",
   "nbconvert_exporter": "python",
   "pygments_lexer": "ipython3",
   "version": "3.12.1"
  }
 },
 "nbformat": 4,
 "nbformat_minor": 5
}
