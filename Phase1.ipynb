{
 "cells": [
  {
   "cell_type": "markdown",
   "id": "98c3c584",
   "metadata": {},
   "source": [
    "# IT362: Principles of Data Science"
   ]
  },
  {
   "cell_type": "markdown",
   "id": "95ac449a",
   "metadata": {},
   "source": [
    "## Phase 1: Data Collection Research and Assessment  "
   ]
  },
  {
   "cell_type": "markdown",
   "id": "bca1870d",
   "metadata": {},
   "source": [
    "### 1. Introduction\n",
    "The **Natural Disaster Prediction Model: PREDINA** aims to analyze and predict the impacts of natural disasters based on historical data, with a focus on enhancing disaster preparedness and response strategies. The main research question guiding this project is: *How can historical data on natural disasters inform future predictions and improve community resilience?*"
   ]
  },
  {
   "cell_type": "markdown",
   "id": "a6ee887f",
   "metadata": {},
   "source": [
    "### 2. Importing Libraries\n",
    "In this section, we will import the necessary libraries for our analysis and data processing."
   ]
  },
  {
   "cell_type": "code",
   "execution_count": 75,
   "id": "42176333",
   "metadata": {},
   "outputs": [
    {
     "name": "stdout",
     "output_type": "stream",
     "text": [
      "Requirement already satisfied: openpyxl in /usr/local/python/3.12.1/lib/python3.12/site-packages (3.1.5)\n",
      "Requirement already satisfied: et-xmlfile in /usr/local/python/3.12.1/lib/python3.12/site-packages (from openpyxl) (2.0.0)\n",
      "\n",
      "\u001b[1m[\u001b[0m\u001b[34;49mnotice\u001b[0m\u001b[1;39;49m]\u001b[0m\u001b[39;49m A new release of pip is available: \u001b[0m\u001b[31;49m24.3.1\u001b[0m\u001b[39;49m -> \u001b[0m\u001b[32;49m25.0\u001b[0m\n",
      "\u001b[1m[\u001b[0m\u001b[34;49mnotice\u001b[0m\u001b[1;39;49m]\u001b[0m\u001b[39;49m To update, run: \u001b[0m\u001b[32;49mpython3 -m pip install --upgrade pip\u001b[0m\n"
     ]
    }
   ],
   "source": [
    "# Install required libraries\n",
    "!pip install openpyxl\n",
    "\n",
    "# Import libraries\n",
    "import pandas as pd\n",
    "import requests\n",
    "import csv"
   ]
  },
  {
   "cell_type": "markdown",
   "id": "af8f01a4",
   "metadata": {},
   "source": [
    "### 3. Datasets"
   ]
  },
  {
   "cell_type": "markdown",
   "id": "28710ab0",
   "metadata": {},
   "source": [
    "- #### **EM-DAT: The International Disaster Database**\n",
    "The EM-DAT Public Table is a global disaster database maintained by CRED, tracking natural and technological disasters. It includes data on fatalities, affected populations, and economic damages, and is used for research and disaster management."
   ]
  },
  {
   "cell_type": "code",
   "execution_count": 76,
   "id": "6134a5e6",
   "metadata": {},
   "outputs": [
    {
     "name": "stdout",
     "output_type": "stream",
     "text": [
      "          DisNo. Historic Classification Key Disaster Group Disaster Subgroup  \\\n",
      "0  1999-9388-DJI       No    nat-cli-dro-dro        Natural    Climatological   \n",
      "1  1999-9388-SDN       No    nat-cli-dro-dro        Natural    Climatological   \n",
      "2  1999-9388-SOM       No    nat-cli-dro-dro        Natural    Climatological   \n",
      "3  2000-0001-AGO       No    tec-tra-roa-roa  Technological         Transport   \n",
      "4  2000-0002-AGO       No    nat-hyd-flo-riv        Natural      Hydrological   \n",
      "\n",
      "  Disaster Type Disaster Subtype External IDs Event Name  ISO  ...  \\\n",
      "0       Drought          Drought          NaN        NaN  DJI  ...   \n",
      "1       Drought          Drought          NaN        NaN  SDN  ...   \n",
      "2       Drought          Drought          NaN        NaN  SOM  ...   \n",
      "3          Road             Road          NaN        NaN  AGO  ...   \n",
      "4         Flood   Riverine flood          NaN        NaN  AGO  ...   \n",
      "\n",
      "  Reconstruction Costs ('000 US$) Reconstruction Costs, Adjusted ('000 US$)  \\\n",
      "0                             NaN                                       NaN   \n",
      "1                             NaN                                       NaN   \n",
      "2                             NaN                                       NaN   \n",
      "3                             NaN                                       NaN   \n",
      "4                             NaN                                       NaN   \n",
      "\n",
      "  Insured Damage ('000 US$) Insured Damage, Adjusted ('000 US$)  \\\n",
      "0                       NaN                                 NaN   \n",
      "1                       NaN                                 NaN   \n",
      "2                       NaN                                 NaN   \n",
      "3                       NaN                                 NaN   \n",
      "4                       NaN                                 NaN   \n",
      "\n",
      "  Total Damage ('000 US$) Total Damage, Adjusted ('000 US$)        CPI  \\\n",
      "0                     NaN                               NaN  58.111474   \n",
      "1                     NaN                               NaN  56.514291   \n",
      "2                     NaN                               NaN  56.514291   \n",
      "3                     NaN                               NaN  56.514291   \n",
      "4                 10000.0                           17695.0  56.514291   \n",
      "\n",
      "                                         Admin Units  Entry Date  Last Update  \n",
      "0  [{\"adm1_code\":1093,\"adm1_name\":\"Ali Sabieh\"},{...  2006-03-01   2023-09-25  \n",
      "1  [{\"adm1_code\":2757,\"adm1_name\":\"Northern Darfu...  2006-03-08   2023-09-25  \n",
      "2  [{\"adm1_code\":2691,\"adm1_name\":\"Bay\"},{\"adm1_c...  2006-03-08   2023-09-25  \n",
      "3                                                NaN  2004-10-27   2023-09-25  \n",
      "4  [{\"adm2_code\":4214,\"adm2_name\":\"Baia Farta\"},{...  2005-02-03   2023-09-25  \n",
      "\n",
      "[5 rows x 46 columns]\n"
     ]
    }
   ],
   "source": [
    "emdat_df = pd.read_excel(\"Datasets/emdat.xlsx\")\n",
    "print(emdat_df.head())"
   ]
  },
  {
   "cell_type": "markdown",
   "id": "a74994bc",
   "metadata": {},
   "source": [
    "- #### **Kaggle Dataset : ALL NATURAL DISASTERS 1900-2021 / EOSDIS**\n",
    "This dataset, hosted on Kaggle, provides a record of natural disasters worldwide from 1900 to 2021, sourced from NASA's Earth Observing System Data and Information System (EOSDIS). It includes details such as disaster type, location, dates, and impacts (e.g., fatalities, affected populations, and economic damages), making it useful for analyzing historical disaster trends and impacts."
   ]
  },
  {
   "cell_type": "code",
   "execution_count": 77,
   "id": "bd0309ba",
   "metadata": {},
   "outputs": [
    {
     "name": "stdout",
     "output_type": "stream",
     "text": [
      "   Year   Seq Glide Disaster Group Disaster Subgroup      Disaster Type  \\\n",
      "0  1900  9002   NaN        Natural    Climatological            Drought   \n",
      "1  1900  9001   NaN        Natural    Climatological            Drought   \n",
      "2  1902    12   NaN        Natural       Geophysical         Earthquake   \n",
      "3  1902     3   NaN        Natural       Geophysical  Volcanic activity   \n",
      "4  1902    10   NaN        Natural       Geophysical  Volcanic activity   \n",
      "\n",
      "  Disaster Subtype Disaster Subsubtype   Event Name     Country  ...  \\\n",
      "0          Drought                 NaN          NaN  Cabo Verde  ...   \n",
      "1          Drought                 NaN          NaN       India  ...   \n",
      "2  Ground movement                 NaN          NaN   Guatemala  ...   \n",
      "3         Ash fall                 NaN  Santa Maria   Guatemala  ...   \n",
      "4         Ash fall                 NaN  Santa Maria   Guatemala  ...   \n",
      "\n",
      "  No Affected No Homeless Total Affected Insured Damages ('000 US$)  \\\n",
      "0         NaN         NaN            NaN                        NaN   \n",
      "1         NaN         NaN            NaN                        NaN   \n",
      "2         NaN         NaN            NaN                        NaN   \n",
      "3         NaN         NaN            NaN                        NaN   \n",
      "4         NaN         NaN            NaN                        NaN   \n",
      "\n",
      "  Total Damages ('000 US$)       CPI Adm Level Admin1 Code Admin2 Code  \\\n",
      "0                      NaN  3.221647       NaN         NaN         NaN   \n",
      "1                      NaN  3.221647       NaN         NaN         NaN   \n",
      "2                  25000.0  3.350513       NaN         NaN         NaN   \n",
      "3                      NaN  3.350513       NaN         NaN         NaN   \n",
      "4                      NaN  3.350513       NaN         NaN         NaN   \n",
      "\n",
      "  Geo Locations  \n",
      "0           NaN  \n",
      "1           NaN  \n",
      "2           NaN  \n",
      "3           NaN  \n",
      "4           NaN  \n",
      "\n",
      "[5 rows x 45 columns]\n"
     ]
    }
   ],
   "source": [
    "kaggle_df = pd.read_csv(\"Datasets/EOSDIS.csv\")\n",
    "print(kaggle_df.head())"
   ]
  },
  {
   "cell_type": "markdown",
   "id": "cbbb9d1d",
   "metadata": {},
   "source": [
    "- ### **Global Disaster Alert and Coordination System (GDACS)**\n",
    "The GDACS API provides real-time alerts on natural disasters such as earthquakes, tsunamis, and storms, offering data on disaster type, location, magnitude, and impact. It is useful for monitoring, coordinating disaster response efforts, and supplementing data for building predictive models."
   ]
  },
  {
   "cell_type": "code",
   "execution_count": 78,
   "id": "89f8c757",
   "metadata": {},
   "outputs": [
    {
     "name": "stdout",
     "output_type": "stream",
     "text": [
      "Raw dataset saved to 'gdacs_dataset.json'.\n"
     ]
    }
   ],
   "source": [
    "import requests\n",
    "import json\n",
    "\n",
    "def save_raw_dataset():\n",
    "    LATEST_EVENTS_URL = 'https://www.gdacs.org/gdacsapi/api/events/geteventlist/EVENTS4APP'\n",
    "    \n",
    "    try:\n",
    "        # Send a GET request to the API\n",
    "        response = requests.get(LATEST_EVENTS_URL)\n",
    "        response.raise_for_status()\n",
    "        \n",
    "        # Save the raw JSON data to a file\n",
    "        with open('gdacs_dataset.json', 'w') as f:\n",
    "            json.dump(response.json(), f)\n",
    "        \n",
    "        print(\"Raw dataset saved to 'gdacs_dataset.json'.\")\n",
    "\n",
    "    except requests.exceptions.RequestException as e:\n",
    "        print(f\"Error fetching data: {e}\")\n",
    "\n",
    "# Example usage\n",
    "if __name__ == \"__main__\":\n",
    "    save_raw_dataset()"
   ]
  },
  {
   "cell_type": "code",
   "execution_count": 79,
   "id": "764bd24c",
   "metadata": {},
   "outputs": [
    {
     "name": "stdout",
     "output_type": "stream",
     "text": [
      "[{'Event Name': '', 'Country': 'Jordan', 'ISO': 'JOR', 'Disaster Group': 'FL', 'Latitude': 31.1847222, 'Longitude': 35.7047218, 'Start Year': '2025', 'Start Month': '02', 'Start Day': '05', 'End Year': '2025', 'End Month': '02', 'End Day': '07', 'Magnitude': 0.0, 'Magnitude Unit': '', 'Losses': None}, {'Event Name': '', 'Country': 'Papua New Guinea', 'ISO': 'PNG', 'Disaster Group': 'EQ', 'Latitude': -2.8138, 'Longitude': 141.6201, 'Start Year': '2025', 'Start Month': '02', 'Start Day': '06', 'End Year': '2025', 'End Month': '02', 'End Day': '06', 'Magnitude': 5.1, 'Magnitude Unit': 'M', 'Losses': None}, {'Event Name': '', 'Country': 'Indonesia', 'ISO': 'IDN', 'Disaster Group': 'EQ', 'Latitude': 4.4689, 'Longitude': 126.6945, 'Start Year': '2025', 'Start Month': '02', 'Start Day': '06', 'End Year': '2025', 'End Month': '02', 'End Day': '06', 'Magnitude': 5.4, 'Magnitude Unit': 'M', 'Losses': None}, {'Event Name': '', 'Country': 'Chile', 'ISO': 'CHL', 'Disaster Group': 'EQ', 'Latitude': -42.4508, 'Longitude': -74.2463, 'Start Year': '2025', 'Start Month': '02', 'Start Day': '06', 'End Year': '2025', 'End Month': '02', 'End Day': '06', 'Magnitude': 4.8, 'Magnitude Unit': 'M', 'Losses': None}, {'Event Name': 'VINCE-25', 'Country': 'Cocos (Keeling) Islands', 'ISO': '', 'Disaster Group': 'TC', 'Latitude': -19.47, 'Longitude': 81.62, 'Start Year': '2025', 'Start Month': '02', 'Start Day': '01', 'End Year': '2025', 'End Month': '02', 'End Day': '06', 'Magnitude': 232.220736, 'Magnitude Unit': 'km/h', 'Losses': None}, {'Event Name': 'TALIAH-25', 'Country': '', 'ISO': '', 'Disaster Group': 'TC', 'Latitude': -14.9, 'Longitude': 103.8, 'Start Year': '2025', 'Start Month': '02', 'Start Day': '02', 'End Year': '2025', 'End Month': '02', 'End Day': '06', 'Magnitude': 157.4064, 'Magnitude Unit': 'km/h', 'Losses': None}, {'Event Name': '', 'Country': 'Greece', 'ISO': 'GRC', 'Disaster Group': 'EQ', 'Latitude': 36.5204, 'Longitude': 25.4862, 'Start Year': '2025', 'Start Month': '02', 'Start Day': '06', 'End Year': '2025', 'End Month': '02', 'End Day': '06', 'Magnitude': 4.6, 'Magnitude Unit': 'M', 'Losses': None}, {'Event Name': '', 'Country': 'Chile', 'ISO': 'CHL', 'Disaster Group': 'EQ', 'Latitude': -30.0276, 'Longitude': -71.2882, 'Start Year': '2025', 'Start Month': '02', 'Start Day': '06', 'End Year': '2025', 'End Month': '02', 'End Day': '06', 'Magnitude': 4.6, 'Magnitude Unit': 'M', 'Losses': None}, {'Event Name': '', 'Country': 'Greece', 'ISO': 'GRC', 'Disaster Group': 'EQ', 'Latitude': 36.6462, 'Longitude': 25.6136, 'Start Year': '2025', 'Start Month': '02', 'Start Day': '06', 'End Year': '2025', 'End Month': '02', 'End Day': '06', 'Magnitude': 4.6, 'Magnitude Unit': 'M', 'Losses': None}, {'Event Name': '', 'Country': 'Japan', 'ISO': 'JPN', 'Disaster Group': 'EQ', 'Latitude': 39.7907, 'Longitude': 141.7934, 'Start Year': '2025', 'Start Month': '02', 'Start Day': '06', 'End Year': '2025', 'End Month': '02', 'End Day': '06', 'Magnitude': 4.6, 'Magnitude Unit': 'M', 'Losses': None}, {'Event Name': '', 'Country': 'Greece', 'ISO': 'GRC', 'Disaster Group': 'EQ', 'Latitude': 36.5727, 'Longitude': 25.5906, 'Start Year': '2025', 'Start Month': '02', 'Start Day': '06', 'End Year': '2025', 'End Month': '02', 'End Day': '06', 'Magnitude': 4.5, 'Magnitude Unit': 'M', 'Losses': None}, {'Event Name': '', 'Country': 'Madagascar', 'ISO': 'MDG', 'Disaster Group': 'FL', 'Latitude': -19.0054169, 'Longitude': 48.8687199169093, 'Start Year': '2025', 'Start Month': '02', 'Start Day': '04', 'End Year': '2025', 'End Month': '02', 'End Day': '06', 'Magnitude': 0.0, 'Magnitude Unit': '', 'Losses': None}, {'Event Name': '', 'Country': 'Argentina', 'ISO': 'ARG', 'Disaster Group': 'FL', 'Latitude': -32.8166653, 'Longitude': -60.7166716, 'Start Year': '2025', 'Start Month': '01', 'Start Day': '25', 'End Year': '2025', 'End Month': '02', 'End Day': '06', 'Magnitude': 0.0, 'Magnitude Unit': '', 'Losses': None}, {'Event Name': '', 'Country': 'Australia', 'ISO': 'AUS', 'Disaster Group': 'WF', 'Latitude': -37.294849135415824, 'Longitude': 142.29713526600776, 'Start Year': '2025', 'Start Month': '01', 'Start Day': '27', 'End Year': '2025', 'End Month': '02', 'End Day': '06', 'Magnitude': 66791.0, 'Magnitude Unit': 'ha', 'Losses': None}, {'Event Name': '', 'Country': 'Australia', 'ISO': 'AUS', 'Disaster Group': 'WF', 'Latitude': -23.64620914193076, 'Longitude': 133.42263713805625, 'Start Year': '2025', 'Start Month': '01', 'Start Day': '28', 'End Year': '2025', 'End Month': '02', 'End Day': '06', 'Magnitude': 52421.0, 'Magnitude Unit': 'ha', 'Losses': None}, {'Event Name': '', 'Country': 'Sudan', 'ISO': 'SDN', 'Disaster Group': 'WF', 'Latitude': 8.922599226945335, 'Longitude': 31.86641696738327, 'Start Year': '2025', 'Start Month': '01', 'Start Day': '28', 'End Year': '2025', 'End Month': '02', 'End Day': '06', 'Magnitude': 11151.0, 'Magnitude Unit': 'ha', 'Losses': None}, {'Event Name': '', 'Country': 'Argentina', 'ISO': 'ARG', 'Disaster Group': 'WF', 'Latitude': -39.55152723145861, 'Longitude': -71.27374736642963, 'Start Year': '2025', 'Start Month': '01', 'Start Day': '30', 'End Year': '2025', 'End Month': '02', 'End Day': '06', 'Magnitude': 9756.0, 'Magnitude Unit': 'ha', 'Losses': None}, {'Event Name': '', 'Country': 'Australia', 'ISO': 'AUS', 'Disaster Group': 'WF', 'Latitude': -41.54600538500932, 'Longitude': 144.9942942681785, 'Start Year': '2025', 'Start Month': '02', 'Start Day': '03', 'End Year': '2025', 'End Month': '02', 'End Day': '06', 'Magnitude': 12071.0, 'Magnitude Unit': 'ha', 'Losses': None}, {'Event Name': '', 'Country': 'Central African Republic', 'ISO': 'CAF', 'Disaster Group': 'WF', 'Latitude': 7.590560231465581, 'Longitude': 21.28488346905262, 'Start Year': '2025', 'Start Month': '01', 'Start Day': '29', 'End Year': '2025', 'End Month': '02', 'End Day': '06', 'Magnitude': 7485.0, 'Magnitude Unit': 'ha', 'Losses': None}, {'Event Name': '', 'Country': 'Chad', 'ISO': 'TCD', 'Disaster Group': 'WF', 'Latitude': 11.718614140806906, 'Longitude': 19.74594707024379, 'Start Year': '2025', 'Start Month': '02', 'Start Day': '03', 'End Year': '2025', 'End Month': '02', 'End Day': '06', 'Magnitude': 5688.0, 'Magnitude Unit': 'ha', 'Losses': None}, {'Event Name': '', 'Country': 'Argentina', 'ISO': 'ARG', 'Disaster Group': 'WF', 'Latitude': -41.87159400914621, 'Longitude': -71.57446270555205, 'Start Year': '2025', 'Start Month': '01', 'Start Day': '30', 'End Year': '2025', 'End Month': '02', 'End Day': '06', 'Magnitude': 1896.0, 'Magnitude Unit': 'ha', 'Losses': None}, {'Event Name': '', 'Country': 'Argentina', 'ISO': 'ARG', 'Disaster Group': 'WF', 'Latitude': -29.546235675996385, 'Longitude': -58.30192154366178, 'Start Year': '2025', 'Start Month': '02', 'Start Day': '03', 'End Year': '2025', 'End Month': '02', 'End Day': '06', 'Magnitude': 13599.0, 'Magnitude Unit': 'ha', 'Losses': None}, {'Event Name': '', 'Country': 'Chad', 'ISO': 'TCD', 'Disaster Group': 'WF', 'Latitude': 14.424164508512549, 'Longitude': 19.811061624565365, 'Start Year': '2025', 'Start Month': '02', 'Start Day': '04', 'End Year': '2025', 'End Month': '02', 'End Day': '06', 'Magnitude': 9470.0, 'Magnitude Unit': 'ha', 'Losses': None}, {'Event Name': '', 'Country': 'Central African Republic', 'ISO': 'CAF', 'Disaster Group': 'WF', 'Latitude': 6.906259725706808, 'Longitude': 25.142265797271254, 'Start Year': '2025', 'Start Month': '01', 'Start Day': '29', 'End Year': '2025', 'End Month': '02', 'End Day': '06', 'Magnitude': 6846.0, 'Magnitude Unit': 'ha', 'Losses': None}, {'Event Name': '', 'Country': 'Argentina', 'ISO': 'ARG', 'Disaster Group': 'WF', 'Latitude': -28.72112020073024, 'Longitude': -60.447795168425365, 'Start Year': '2025', 'Start Month': '01', 'Start Day': '29', 'End Year': '2025', 'End Month': '02', 'End Day': '06', 'Magnitude': 5235.0, 'Magnitude Unit': 'ha', 'Losses': None}, {'Event Name': '', 'Country': 'Australia', 'ISO': 'AUS', 'Disaster Group': 'WF', 'Latitude': -21.83254646420518, 'Longitude': 130.65086491802245, 'Start Year': '2025', 'Start Month': '01', 'Start Day': '28', 'End Year': '2025', 'End Month': '02', 'End Day': '06', 'Magnitude': 5234.0, 'Magnitude Unit': 'ha', 'Losses': None}, {'Event Name': '', 'Country': 'Sudan', 'ISO': 'SDN', 'Disaster Group': 'WF', 'Latitude': 8.30778111989176, 'Longitude': 32.8379558979108, 'Start Year': '2025', 'Start Month': '02', 'Start Day': '02', 'End Year': '2025', 'End Month': '02', 'End Day': '06', 'Magnitude': 5174.0, 'Magnitude Unit': 'ha', 'Losses': None}, {'Event Name': '', 'Country': 'Central African Republic', 'ISO': 'CAF', 'Disaster Group': 'WF', 'Latitude': 6.371362803398248, 'Longitude': 23.488053789671834, 'Start Year': '2025', 'Start Month': '01', 'Start Day': '31', 'End Year': '2025', 'End Month': '02', 'End Day': '06', 'Magnitude': 5138.0, 'Magnitude Unit': 'ha', 'Losses': None}, {'Event Name': '', 'Country': 'Central African Republic', 'ISO': 'CAF', 'Disaster Group': 'WF', 'Latitude': 6.526013737617227, 'Longitude': 25.62825103530318, 'Start Year': '2025', 'Start Month': '01', 'Start Day': '30', 'End Year': '2025', 'End Month': '02', 'End Day': '06', 'Magnitude': 5095.0, 'Magnitude Unit': 'ha', 'Losses': None}, {'Event Name': '', 'Country': '', 'ISO': '', 'Disaster Group': 'EQ', 'Latitude': -39.0218, 'Longitude': -92.6005, 'Start Year': '2025', 'Start Month': '02', 'Start Day': '05', 'End Year': '2025', 'End Month': '02', 'End Day': '05', 'Magnitude': 4.6, 'Magnitude Unit': 'M', 'Losses': None}, {'Event Name': '', 'Country': '', 'ISO': '', 'Disaster Group': 'EQ', 'Latitude': -19.0936, 'Longitude': -172.6221, 'Start Year': '2025', 'Start Month': '02', 'Start Day': '05', 'End Year': '2025', 'End Month': '02', 'End Day': '05', 'Magnitude': 5.0, 'Magnitude Unit': 'M', 'Losses': None}, {'Event Name': '', 'Country': 'Greece', 'ISO': 'GRC', 'Disaster Group': 'EQ', 'Latitude': 36.6542, 'Longitude': 25.6259, 'Start Year': '2025', 'Start Month': '02', 'Start Day': '05', 'End Year': '2025', 'End Month': '02', 'End Day': '05', 'Magnitude': 5.1, 'Magnitude Unit': 'M', 'Losses': None}, {'Event Name': '', 'Country': '', 'ISO': '', 'Disaster Group': 'EQ', 'Latitude': -11.4468, 'Longitude': 117.237, 'Start Year': '2025', 'Start Month': '02', 'Start Day': '05', 'End Year': '2025', 'End Month': '02', 'End Day': '05', 'Magnitude': 4.7, 'Magnitude Unit': 'M', 'Losses': None}, {'Event Name': '', 'Country': 'Greece', 'ISO': 'GRC', 'Disaster Group': 'EQ', 'Latitude': 36.5579, 'Longitude': 25.6814, 'Start Year': '2025', 'Start Month': '02', 'Start Day': '05', 'End Year': '2025', 'End Month': '02', 'End Day': '05', 'Magnitude': 4.8, 'Magnitude Unit': 'M', 'Losses': None}, {'Event Name': '', 'Country': 'Indonesia', 'ISO': 'IDN', 'Disaster Group': 'EQ', 'Latitude': -9.7446, 'Longitude': 119.6086, 'Start Year': '2025', 'Start Month': '02', 'Start Day': '05', 'End Year': '2025', 'End Month': '02', 'End Day': '05', 'Magnitude': 4.6, 'Magnitude Unit': 'M', 'Losses': None}, {'Event Name': '', 'Country': 'Greece', 'ISO': 'GRC', 'Disaster Group': 'EQ', 'Latitude': 36.638, 'Longitude': 25.5914, 'Start Year': '2025', 'Start Month': '02', 'Start Day': '05', 'End Year': '2025', 'End Month': '02', 'End Day': '05', 'Magnitude': 4.8, 'Magnitude Unit': 'M', 'Losses': None}, {'Event Name': '', 'Country': 'Greece', 'ISO': 'GRC', 'Disaster Group': 'EQ', 'Latitude': 36.6917, 'Longitude': 25.5912, 'Start Year': '2025', 'Start Month': '02', 'Start Day': '05', 'End Year': '2025', 'End Month': '02', 'End Day': '05', 'Magnitude': 4.7, 'Magnitude Unit': 'M', 'Losses': None}, {'Event Name': '', 'Country': 'Greece', 'ISO': 'GRC', 'Disaster Group': 'EQ', 'Latitude': 36.5653, 'Longitude': 25.653, 'Start Year': '2025', 'Start Month': '02', 'Start Day': '05', 'End Year': '2025', 'End Month': '02', 'End Day': '05', 'Magnitude': 4.9, 'Magnitude Unit': 'M', 'Losses': None}, {'Event Name': '', 'Country': 'Chile', 'ISO': 'CHL', 'Disaster Group': 'EQ', 'Latitude': -20.2878, 'Longitude': -69.2301, 'Start Year': '2025', 'Start Month': '02', 'Start Day': '05', 'End Year': '2025', 'End Month': '02', 'End Day': '05', 'Magnitude': 4.9, 'Magnitude Unit': 'M', 'Losses': None}, {'Event Name': '', 'Country': 'Ecuador', 'ISO': 'ECU', 'Disaster Group': 'EQ', 'Latitude': -1.8053, 'Longitude': -78.0667, 'Start Year': '2025', 'Start Month': '02', 'Start Day': '05', 'End Year': '2025', 'End Month': '02', 'End Day': '05', 'Magnitude': 4.9, 'Magnitude Unit': 'M', 'Losses': None}, {'Event Name': '', 'Country': 'United States', 'ISO': 'USA', 'Disaster Group': 'EQ', 'Latitude': 54.744, 'Longitude': -158.068, 'Start Year': '2025', 'Start Month': '02', 'Start Day': '05', 'End Year': '2025', 'End Month': '02', 'End Day': '05', 'Magnitude': 4.7, 'Magnitude Unit': 'M', 'Losses': None}, {'Event Name': '', 'Country': 'Vanuatu', 'ISO': 'VUT', 'Disaster Group': 'EQ', 'Latitude': -19.1985, 'Longitude': 168.7218, 'Start Year': '2025', 'Start Month': '02', 'Start Day': '05', 'End Year': '2025', 'End Month': '02', 'End Day': '05', 'Magnitude': 4.8, 'Magnitude Unit': 'M', 'Losses': None}, {'Event Name': '', 'Country': 'Guatemala', 'ISO': 'GTM', 'Disaster Group': 'EQ', 'Latitude': 13.8202, 'Longitude': -91.5748, 'Start Year': '2025', 'Start Month': '02', 'Start Day': '05', 'End Year': '2025', 'End Month': '02', 'End Day': '05', 'Magnitude': 5.6, 'Magnitude Unit': 'M', 'Losses': None}, {'Event Name': '', 'Country': 'Indonesia', 'ISO': 'IDN', 'Disaster Group': 'EQ', 'Latitude': 1.5585, 'Longitude': 127.1409, 'Start Year': '2025', 'Start Month': '02', 'Start Day': '05', 'End Year': '2025', 'End Month': '02', 'End Day': '05', 'Magnitude': 5.5, 'Magnitude Unit': 'M', 'Losses': None}, {'Event Name': '', 'Country': '', 'ISO': '', 'Disaster Group': 'EQ', 'Latitude': -35.3171, 'Longitude': 178.8129, 'Start Year': '2025', 'Start Month': '02', 'Start Day': '05', 'End Year': '2025', 'End Month': '02', 'End Day': '05', 'Magnitude': 4.9, 'Magnitude Unit': 'M', 'Losses': None}, {'Event Name': '', 'Country': '', 'ISO': '', 'Disaster Group': 'EQ', 'Latitude': -22.5598, 'Longitude': -12.7353, 'Start Year': '2025', 'Start Month': '02', 'Start Day': '05', 'End Year': '2025', 'End Month': '02', 'End Day': '05', 'Magnitude': 4.9, 'Magnitude Unit': 'M', 'Losses': None}, {'Event Name': '', 'Country': 'Namibia', 'ISO': 'NAM', 'Disaster Group': 'FL', 'Latitude': -22.5776104, 'Longitude': 17.0772739, 'Start Year': '2025', 'Start Month': '02', 'Start Day': '03', 'End Year': '2025', 'End Month': '02', 'End Day': '05', 'Magnitude': 0.0, 'Magnitude Unit': '', 'Losses': None}, {'Event Name': '', 'Country': 'The Democratic Republic of Congo', 'ISO': 'COD', 'Disaster Group': 'WF', 'Latitude': 4.390541634569416, 'Longitude': 29.67699471755156, 'Start Year': '2025', 'Start Month': '02', 'Start Day': '01', 'End Year': '2025', 'End Month': '02', 'End Day': '05', 'Magnitude': 7975.0, 'Magnitude Unit': 'ha', 'Losses': None}, {'Event Name': '', 'Country': 'Australia', 'ISO': 'AUS', 'Disaster Group': 'WF', 'Latitude': -23.714115300584037, 'Longitude': 133.23540066713554, 'Start Year': '2025', 'Start Month': '02', 'Start Day': '01', 'End Year': '2025', 'End Month': '02', 'End Day': '05', 'Magnitude': 5624.0, 'Magnitude Unit': 'ha', 'Losses': None}, {'Event Name': '', 'Country': 'Chad', 'ISO': 'TCD', 'Disaster Group': 'WF', 'Latitude': 10.736114246423629, 'Longitude': 19.60030405544991, 'Start Year': '2025', 'Start Month': '01', 'Start Day': '28', 'End Year': '2025', 'End Month': '02', 'End Day': '05', 'Magnitude': 5885.0, 'Magnitude Unit': 'ha', 'Losses': None}, {'Event Name': '', 'Country': 'Central African Republic', 'ISO': 'CAF', 'Disaster Group': 'WF', 'Latitude': 6.545947088093261, 'Longitude': 24.554401507660867, 'Start Year': '2025', 'Start Month': '01', 'Start Day': '29', 'End Year': '2025', 'End Month': '02', 'End Day': '05', 'Magnitude': 9867.0, 'Magnitude Unit': 'ha', 'Losses': None}, {'Event Name': '', 'Country': 'Argentina', 'ISO': 'ARG', 'Disaster Group': 'WF', 'Latitude': -44.112748418158176, 'Longitude': -71.53285612195715, 'Start Year': '2025', 'Start Month': '01', 'Start Day': '29', 'End Year': '2025', 'End Month': '02', 'End Day': '05', 'Magnitude': 6353.0, 'Magnitude Unit': 'ha', 'Losses': None}, {'Event Name': 'FIFTEEN-25', 'Country': 'Vanuatu, New Caledonia', 'ISO': 'NCL', 'Disaster Group': 'TC', 'Latitude': -21.3, 'Longitude': 174.1, 'Start Year': '2025', 'Start Month': '02', 'Start Day': '02', 'End Year': '2025', 'End Month': '02', 'End Day': '05', 'Magnitude': 83.3328, 'Magnitude Unit': 'km/h', 'Losses': None}, {'Event Name': '', 'Country': 'The Democratic Republic of Congo', 'ISO': 'COD', 'Disaster Group': 'WF', 'Latitude': 4.167980211664403, 'Longitude': 29.54836539438865, 'Start Year': '2025', 'Start Month': '01', 'Start Day': '30', 'End Year': '2025', 'End Month': '02', 'End Day': '05', 'Magnitude': 5735.0, 'Magnitude Unit': 'ha', 'Losses': None}, {'Event Name': '', 'Country': 'Russia', 'ISO': 'RUS', 'Disaster Group': 'EQ', 'Latitude': 46.4936, 'Longitude': 153.5492, 'Start Year': '2025', 'Start Month': '02', 'Start Day': '04', 'End Year': '2025', 'End Month': '02', 'End Day': '04', 'Magnitude': 5.0, 'Magnitude Unit': 'M', 'Losses': None}, {'Event Name': '', 'Country': 'China', 'ISO': 'CHN', 'Disaster Group': 'EQ', 'Latitude': 41.2848, 'Longitude': 83.8028, 'Start Year': '2025', 'Start Month': '02', 'Start Day': '04', 'End Year': '2025', 'End Month': '02', 'End Day': '04', 'Magnitude': 5.0, 'Magnitude Unit': 'M', 'Losses': None}, {'Event Name': '', 'Country': 'Greece', 'ISO': 'GRC', 'Disaster Group': 'EQ', 'Latitude': 36.5432, 'Longitude': 25.5937, 'Start Year': '2025', 'Start Month': '02', 'Start Day': '04', 'End Year': '2025', 'End Month': '02', 'End Day': '04', 'Magnitude': 4.7, 'Magnitude Unit': 'M', 'Losses': None}, {'Event Name': '', 'Country': 'China', 'ISO': 'CHN', 'Disaster Group': 'EQ', 'Latitude': 38.2135, 'Longitude': 76.4607, 'Start Year': '2025', 'Start Month': '02', 'Start Day': '04', 'End Year': '2025', 'End Month': '02', 'End Day': '04', 'Magnitude': 4.9, 'Magnitude Unit': 'M', 'Losses': None}, {'Event Name': '', 'Country': 'United States', 'ISO': 'USA', 'Disaster Group': 'EQ', 'Latitude': 53.3414, 'Longitude': -163.9228, 'Start Year': '2025', 'Start Month': '02', 'Start Day': '04', 'End Year': '2025', 'End Month': '02', 'End Day': '04', 'Magnitude': 4.6, 'Magnitude Unit': 'M', 'Losses': None}, {'Event Name': '', 'Country': 'United States', 'ISO': 'USA', 'Disaster Group': 'EQ', 'Latitude': 53.4129, 'Longitude': -163.957, 'Start Year': '2025', 'Start Month': '02', 'Start Day': '04', 'End Year': '2025', 'End Month': '02', 'End Day': '04', 'Magnitude': 5.0, 'Magnitude Unit': 'M', 'Losses': None}, {'Event Name': '', 'Country': '', 'ISO': '', 'Disaster Group': 'EQ', 'Latitude': 30.7758, 'Longitude': -40.982, 'Start Year': '2025', 'Start Month': '02', 'Start Day': '04', 'End Year': '2025', 'End Month': '02', 'End Day': '04', 'Magnitude': 5.1, 'Magnitude Unit': 'M', 'Losses': None}, {'Event Name': '', 'Country': 'Indonesia', 'ISO': 'IDN', 'Disaster Group': 'EQ', 'Latitude': -7.066, 'Longitude': 131.0192, 'Start Year': '2025', 'Start Month': '02', 'Start Day': '04', 'End Year': '2025', 'End Month': '02', 'End Day': '04', 'Magnitude': 4.6, 'Magnitude Unit': 'M', 'Losses': None}, {'Event Name': '', 'Country': '', 'ISO': '', 'Disaster Group': 'EQ', 'Latitude': 31.006, 'Longitude': -41.4299, 'Start Year': '2025', 'Start Month': '02', 'Start Day': '04', 'End Year': '2025', 'End Month': '02', 'End Day': '04', 'Magnitude': 5.0, 'Magnitude Unit': 'M', 'Losses': None}, {'Event Name': '', 'Country': '', 'ISO': '', 'Disaster Group': 'EQ', 'Latitude': -0.3804, 'Longitude': -19.5069, 'Start Year': '2025', 'Start Month': '02', 'Start Day': '04', 'End Year': '2025', 'End Month': '02', 'End Day': '04', 'Magnitude': 4.9, 'Magnitude Unit': 'M', 'Losses': None}, {'Event Name': '', 'Country': 'Greece', 'ISO': 'GRC', 'Disaster Group': 'EQ', 'Latitude': 36.6246, 'Longitude': 25.6082, 'Start Year': '2025', 'Start Month': '02', 'Start Day': '04', 'End Year': '2025', 'End Month': '02', 'End Day': '04', 'Magnitude': 4.5, 'Magnitude Unit': 'M', 'Losses': None}, {'Event Name': '', 'Country': '', 'ISO': '', 'Disaster Group': 'EQ', 'Latitude': -15.1336, 'Longitude': -172.7475, 'Start Year': '2025', 'Start Month': '02', 'Start Day': '04', 'End Year': '2025', 'End Month': '02', 'End Day': '04', 'Magnitude': 4.9, 'Magnitude Unit': 'M', 'Losses': None}, {'Event Name': '', 'Country': 'Greece', 'ISO': 'GRC', 'Disaster Group': 'EQ', 'Latitude': 36.4572, 'Longitude': 25.5722, 'Start Year': '2025', 'Start Month': '02', 'Start Day': '04', 'End Year': '2025', 'End Month': '02', 'End Day': '04', 'Magnitude': 5.3, 'Magnitude Unit': 'M', 'Losses': None}, {'Event Name': '', 'Country': 'Greece', 'ISO': 'GRC', 'Disaster Group': 'EQ', 'Latitude': 36.4717, 'Longitude': 25.497, 'Start Year': '2025', 'Start Month': '02', 'Start Day': '04', 'End Year': '2025', 'End Month': '02', 'End Day': '04', 'Magnitude': 4.7, 'Magnitude Unit': 'M', 'Losses': None}, {'Event Name': '', 'Country': '', 'ISO': '', 'Disaster Group': 'EQ', 'Latitude': -15.9822, 'Longitude': -171.8256, 'Start Year': '2025', 'Start Month': '02', 'Start Day': '04', 'End Year': '2025', 'End Month': '02', 'End Day': '04', 'Magnitude': 4.6, 'Magnitude Unit': 'M', 'Losses': None}, {'Event Name': '', 'Country': 'Papua New Guinea', 'ISO': 'PNG', 'Disaster Group': 'EQ', 'Latitude': -5.5488, 'Longitude': 151.8717, 'Start Year': '2025', 'Start Month': '02', 'Start Day': '04', 'End Year': '2025', 'End Month': '02', 'End Day': '04', 'Magnitude': 5.2, 'Magnitude Unit': 'M', 'Losses': None}, {'Event Name': '', 'Country': 'Greece', 'ISO': 'GRC', 'Disaster Group': 'EQ', 'Latitude': 36.6545, 'Longitude': 25.6596, 'Start Year': '2025', 'Start Month': '02', 'Start Day': '04', 'End Year': '2025', 'End Month': '02', 'End Day': '04', 'Magnitude': 4.7, 'Magnitude Unit': 'M', 'Losses': None}, {'Event Name': '', 'Country': 'Greece', 'ISO': 'GRC', 'Disaster Group': 'EQ', 'Latitude': 36.5152, 'Longitude': 25.701, 'Start Year': '2025', 'Start Month': '02', 'Start Day': '04', 'End Year': '2025', 'End Month': '02', 'End Day': '04', 'Magnitude': 4.5, 'Magnitude Unit': 'M', 'Losses': None}, {'Event Name': '', 'Country': 'Ecuador', 'ISO': 'ECU', 'Disaster Group': 'EQ', 'Latitude': -3.6359, 'Longitude': -80.0204, 'Start Year': '2025', 'Start Month': '02', 'Start Day': '04', 'End Year': '2025', 'End Month': '02', 'End Day': '04', 'Magnitude': 4.6, 'Magnitude Unit': 'M', 'Losses': None}, {'Event Name': '', 'Country': 'Greece', 'ISO': 'GRC', 'Disaster Group': 'EQ', 'Latitude': 36.5778, 'Longitude': 25.6669, 'Start Year': '2025', 'Start Month': '02', 'Start Day': '04', 'End Year': '2025', 'End Month': '02', 'End Day': '04', 'Magnitude': 4.6, 'Magnitude Unit': 'M', 'Losses': None}, {'Event Name': '', 'Country': 'Greece', 'ISO': 'GRC', 'Disaster Group': 'EQ', 'Latitude': 36.6609, 'Longitude': 25.6429, 'Start Year': '2025', 'Start Month': '02', 'Start Day': '04', 'End Year': '2025', 'End Month': '02', 'End Day': '04', 'Magnitude': 4.7, 'Magnitude Unit': 'M', 'Losses': None}, {'Event Name': '', 'Country': 'Russia', 'ISO': 'RUS', 'Disaster Group': 'EQ', 'Latitude': 65.3924, 'Longitude': -168.8886, 'Start Year': '2025', 'Start Month': '02', 'Start Day': '04', 'End Year': '2025', 'End Month': '02', 'End Day': '04', 'Magnitude': 4.5, 'Magnitude Unit': 'M', 'Losses': None}, {'Event Name': '', 'Country': '', 'ISO': '', 'Disaster Group': 'EQ', 'Latitude': -22.8723, 'Longitude': -12.8337, 'Start Year': '2025', 'Start Month': '02', 'Start Day': '04', 'End Year': '2025', 'End Month': '02', 'End Day': '04', 'Magnitude': 4.9, 'Magnitude Unit': 'M', 'Losses': None}, {'Event Name': '', 'Country': 'Greece', 'ISO': 'GRC', 'Disaster Group': 'EQ', 'Latitude': 36.5816, 'Longitude': 25.636, 'Start Year': '2025', 'Start Month': '02', 'Start Day': '04', 'End Year': '2025', 'End Month': '02', 'End Day': '04', 'Magnitude': 5.1, 'Magnitude Unit': 'M', 'Losses': None}, {'Event Name': '', 'Country': '', 'ISO': '', 'Disaster Group': 'EQ', 'Latitude': -38.94, 'Longitude': -92.496, 'Start Year': '2025', 'Start Month': '02', 'Start Day': '04', 'End Year': '2025', 'End Month': '02', 'End Day': '04', 'Magnitude': 5.7, 'Magnitude Unit': 'M', 'Losses': None}, {'Event Name': '', 'Country': 'United States', 'ISO': 'USA', 'Disaster Group': 'FL', 'Latitude': 38.4838305, 'Longitude': -122.885660575243, 'Start Year': '2025', 'Start Month': '02', 'Start Day': '02', 'End Year': '2025', 'End Month': '02', 'End Day': '04', 'Magnitude': 0.0, 'Magnitude Unit': '', 'Losses': None}, {'Event Name': '', 'Country': 'Central African Republic', 'ISO': 'CAF', 'Disaster Group': 'WF', 'Latitude': 6.585984745827223, 'Longitude': 25.058484021222263, 'Start Year': '2025', 'Start Month': '01', 'Start Day': '25', 'End Year': '2025', 'End Month': '02', 'End Day': '04', 'Magnitude': 10376.0, 'Magnitude Unit': 'ha', 'Losses': None}, {'Event Name': '', 'Country': 'Ghana', 'ISO': 'GHA', 'Disaster Group': 'WF', 'Latitude': 7.044105874080034, 'Longitude': -2.8735749802971253, 'Start Year': '2025', 'Start Month': '01', 'Start Day': '25', 'End Year': '2025', 'End Month': '02', 'End Day': '04', 'Magnitude': 9545.0, 'Magnitude Unit': 'ha', 'Losses': None}, {'Event Name': '', 'Country': 'Australia', 'ISO': 'AUS', 'Disaster Group': 'WF', 'Latitude': -18.171704188049798, 'Longitude': 135.37777735987646, 'Start Year': '2025', 'Start Month': '01', 'Start Day': '30', 'End Year': '2025', 'End Month': '02', 'End Day': '04', 'Magnitude': 5237.0, 'Magnitude Unit': 'ha', 'Losses': None}, {'Event Name': '', 'Country': 'Australia', 'ISO': 'AUS', 'Disaster Group': 'WF', 'Latitude': -36.612048904239145, 'Longitude': 141.42690472083171, 'Start Year': '2025', 'Start Month': '02', 'Start Day': '02', 'End Year': '2025', 'End Month': '02', 'End Day': '04', 'Magnitude': 12362.0, 'Magnitude Unit': 'ha', 'Losses': None}, {'Event Name': '', 'Country': 'The Democratic Republic of Congo', 'ISO': 'COD', 'Disaster Group': 'WF', 'Latitude': 4.720875538140766, 'Longitude': 26.351639821303507, 'Start Year': '2025', 'Start Month': '01', 'Start Day': '30', 'End Year': '2025', 'End Month': '02', 'End Day': '04', 'Magnitude': 8014.0, 'Magnitude Unit': 'ha', 'Losses': None}, {'Event Name': '', 'Country': 'The Democratic Republic of Congo', 'ISO': 'COD', 'Disaster Group': 'WF', 'Latitude': 4.268963531204435, 'Longitude': 29.44556842388417, 'Start Year': '2025', 'Start Month': '01', 'Start Day': '28', 'End Year': '2025', 'End Month': '02', 'End Day': '04', 'Magnitude': 8260.0, 'Magnitude Unit': 'ha', 'Losses': None}, {'Event Name': '', 'Country': 'Australia', 'ISO': 'AUS', 'Disaster Group': 'WF', 'Latitude': -21.290730136630568, 'Longitude': 136.2588948833967, 'Start Year': '2025', 'Start Month': '01', 'Start Day': '30', 'End Year': '2025', 'End Month': '02', 'End Day': '04', 'Magnitude': 9272.0, 'Magnitude Unit': 'ha', 'Losses': None}, {'Event Name': '', 'Country': 'Australia', 'ISO': 'AUS', 'Disaster Group': 'WF', 'Latitude': -37.12739019425914, 'Longitude': 142.32755456173916, 'Start Year': '2025', 'Start Month': '01', 'Start Day': '27', 'End Year': '2025', 'End Month': '02', 'End Day': '04', 'Magnitude': 11886.0, 'Magnitude Unit': 'ha', 'Losses': None}, {'Event Name': '', 'Country': 'Australia', 'ISO': 'AUS', 'Disaster Group': 'WF', 'Latitude': -21.568572171482053, 'Longitude': 129.7625046905945, 'Start Year': '2025', 'Start Month': '01', 'Start Day': '31', 'End Year': '2025', 'End Month': '02', 'End Day': '04', 'Magnitude': 6829.0, 'Magnitude Unit': 'ha', 'Losses': None}, {'Event Name': '', 'Country': 'Australia', 'ISO': 'AUS', 'Disaster Group': 'WF', 'Latitude': -22.104027452297974, 'Longitude': 130.6330624971661, 'Start Year': '2025', 'Start Month': '01', 'Start Day': '27', 'End Year': '2025', 'End Month': '02', 'End Day': '04', 'Magnitude': 40063.0, 'Magnitude Unit': 'ha', 'Losses': None}, {'Event Name': 'Syria, Lebanon, Türkiye-2024', 'Country': 'Israel, Iraq, Jordan, Lebanon, Syria, Türkiye', 'ISO': 'ISR', 'Disaster Group': 'DR', 'Latitude': 36.043, 'Longitude': 37.976, 'Start Year': '2024', 'Start Month': '10', 'Start Day': '21', 'End Year': '2025', 'End Month': '02', 'End Day': '04', 'Magnitude': 147626.0, 'Magnitude Unit': 'km2', 'Losses': None}, {'Event Name': '', 'Country': 'Central African Republic', 'ISO': 'CAF', 'Disaster Group': 'WF', 'Latitude': 7.695966920392856, 'Longitude': 23.61296534939995, 'Start Year': '2025', 'Start Month': '01', 'Start Day': '25', 'End Year': '2025', 'End Month': '02', 'End Day': '04', 'Magnitude': 8414.0, 'Magnitude Unit': 'ha', 'Losses': None}, {'Event Name': 'Eastern Europe-2023', 'Country': 'Hungary, Poland, Romania, Slovakia, Ukraine', 'ISO': 'HUN', 'Disaster Group': 'DR', 'Latitude': 47.914, 'Longitude': 22.097, 'Start Year': '2023', 'Start Month': '05', 'Start Day': '21', 'End Year': '2025', 'End Month': '02', 'End Day': '04', 'Magnitude': 91316.0, 'Magnitude Unit': 'km2', 'Losses': None}, {'Event Name': 'South America-2023', 'Country': 'Bolivia, Brazil, Colombia, Ecuador, Guyana, Panama, Peru, Paraguay, Venezuela', 'ISO': 'BOL', 'Disaster Group': 'DR', 'Latitude': -10.479, 'Longitude': -63.464, 'Start Year': '2022', 'Start Month': '09', 'Start Day': '21', 'End Year': '2025', 'End Month': '02', 'End Day': '04', 'Magnitude': 1732137.0, 'Magnitude Unit': 'km2', 'Losses': None}, {'Event Name': 'Southern Europe-2023', 'Country': 'Bulgaria, Spain, Greece, Italy, Malta, Türkiye', 'ISO': 'BGR', 'Disaster Group': 'DR', 'Latitude': 39.997, 'Longitude': 25.488, 'Start Year': '2023', 'Start Month': '08', 'Start Day': '11', 'End Year': '2025', 'End Month': '02', 'End Day': '04', 'Magnitude': 72435.0, 'Magnitude Unit': 'km2', 'Losses': None}, {'Event Name': 'Northern Africa-2023', 'Country': 'Algeria, Spain, Morocco, Tunisia', 'ISO': 'DZA', 'Disaster Group': 'DR', 'Latitude': 33.398, 'Longitude': -4.705, 'Start Year': '2023', 'Start Month': '09', 'Start Day': '21', 'End Year': '2025', 'End Month': '02', 'End Day': '04', 'Magnitude': 328346.0, 'Magnitude Unit': 'km2', 'Losses': None}, {'Event Name': 'Southern Africa-2023', 'Country': 'Angola, Botswana, Democratic Republic of Congo, Lesotho, Malawi, Mozambique, Namibia, Tanzania, South Africa, Zambia, Zimbabwe', 'ISO': 'AGO', 'Disaster Group': 'DR', 'Latitude': -17.945, 'Longitude': 30.041, 'Start Year': '2023', 'Start Month': '08', 'Start Day': '21', 'End Year': '2025', 'End Month': '02', 'End Day': '04', 'Magnitude': 1357264.0, 'Magnitude Unit': 'km2', 'Losses': None}, {'Event Name': 'Madagascar-2023', 'Country': 'Madagascar', 'ISO': 'MDG', 'Disaster Group': 'DR', 'Latitude': -20.87, 'Longitude': 46.81, 'Start Year': '2023', 'Start Month': '10', 'Start Day': '21', 'End Year': '2025', 'End Month': '02', 'End Day': '04', 'Magnitude': 321962.0, 'Magnitude Unit': 'km2', 'Losses': None}, {'Event Name': 'Mexico, South USA-2024', 'Country': 'Mexico, United States', 'ISO': 'MEX', 'Disaster Group': 'DR', 'Latitude': 28.249, 'Longitude': -106.226, 'Start Year': '2024', 'Start Month': '02', 'Start Day': '21', 'End Year': '2025', 'End Month': '02', 'End Day': '04', 'Magnitude': 239808.0, 'Magnitude Unit': 'km2', 'Losses': None}, {'Event Name': 'Nigeria - Eastern Gulf of Guinea-2024', 'Country': 'Cameroon, Gabon, Equatorial Guinea, Nigeria', 'ISO': 'CMR', 'Disaster Group': 'DR', 'Latitude': 4.073, 'Longitude': 10.8, 'Start Year': '2024', 'Start Month': '02', 'Start Day': '21', 'End Year': '2025', 'End Month': '02', 'End Day': '04', 'Magnitude': 152371.0, 'Magnitude Unit': 'km2', 'Losses': None}]\n",
      "Data saved to gdacs_disasters.csv.\n"
     ]
    }
   ],
   "source": [
    "import json\n",
    "import csv\n",
    "\n",
    "def load_and_extract_columns():\n",
    "    # Load the raw dataset from the saved file\n",
    "    with open('RawData/gdacs_dataset.json', 'r') as f:\n",
    "        dataset = json.load(f)\n",
    "    \n",
    "    # Extract specific columns from the dataset\n",
    "    extracted_data = []\n",
    "    for event in dataset.get('features', []):\n",
    "        properties = event.get('properties', {})\n",
    "        coordinates = event[\"geometry\"][\"coordinates\"]\n",
    "        latitude = coordinates[1]  # Lat from GeoJSON\n",
    "        longitude = coordinates[0]  # Lon from GeoJSON\n",
    "\n",
    "        # Extract magnitude and its unit directly from severitydata\n",
    "        severity_data = properties.get(\"severitydata\", {})\n",
    "        magnitude = severity_data.get(\"severity\", 0)\n",
    "        magnitude_unit = severity_data.get(\"severityunit\", \"\")  # Get the unit\n",
    "\n",
    "        extracted_data.append({\n",
    "            \"Event Name\": properties.get(\"eventname\", \"Unknown\"),\n",
    "            \"Country\": properties.get(\"country\", \"Unknown\"),\n",
    "            \"ISO\": properties.get(\"iso3\", \"Unknown\"),\n",
    "            \"Disaster Group\": properties.get(\"eventtype\", \"Unknown\"),\n",
    "            \"Latitude\": latitude,\n",
    "            \"Longitude\": longitude,\n",
    "            \"Start Year\": properties[\"fromdate\"][:4],  # Extract year from date\n",
    "            \"Start Month\": properties[\"fromdate\"][5:7],  # Extract month\n",
    "            \"Start Day\": properties[\"fromdate\"][8:10],  # Extract day\n",
    "            \"End Year\": properties[\"todate\"][:4] if properties[\"todate\"] else None,\n",
    "            \"End Month\": properties[\"todate\"][5:7] if properties[\"todate\"] else None,\n",
    "            \"End Day\": properties[\"todate\"][8:10] if properties[\"todate\"] else None,\n",
    "            \"Magnitude\": magnitude,  # Directly include the magnitude value\n",
    "            \"Magnitude Unit\": magnitude_unit,  # Include the magnitude unit\n",
    "            \"Losses\": properties.get(\"economicloss\", None)\n",
    "        })\n",
    "    \n",
    "    return extracted_data\n",
    "\n",
    "def save_to_csv(data, filename='gdacs_disasters.csv'):\n",
    "    # Save the extracted data to a CSV file\n",
    "    with open(filename, 'w', newline='', encoding='utf-8') as csvfile:\n",
    "        fieldnames = data[0].keys()  # Get the column names from the first data entry\n",
    "        writer = csv.DictWriter(csvfile, fieldnames=fieldnames)\n",
    "        \n",
    "        writer.writeheader()  # Write the header\n",
    "        writer.writerows(data)  # Write the data rows\n",
    "\n",
    "    print(f\"Data saved to {filename}.\")\n",
    "\n",
    "# Example usage\n",
    "if __name__ == \"__main__\":\n",
    "    data = load_and_extract_columns()\n",
    "    print(data)  # Print the extracted data\n",
    "    save_to_csv(data)  # Save the extracted data as a CSV file"
   ]
  },
  {
   "cell_type": "markdown",
   "id": "ac15cf90",
   "metadata": {},
   "source": [
    "Convert Data Types to Match"
   ]
  },
  {
   "cell_type": "code",
   "execution_count": 80,
   "id": "976255a5",
   "metadata": {},
   "outputs": [],
   "source": [
    "numeric_columns = [\"Latitude\", \"Longitude\", \"Start Year\", \"Start Month\", \"Start Day\", \n",
    "                   \"End Year\", \"End Month\", \"End Day\", \"Total Deaths\", \"No. Injured\", \n",
    "                   \"No. Affected\", \"No. Homeless\", \"Total Affected\", \"Total Damages ('000 US$)\", \"CPI\", \"Magnitude\"]\n",
    "\n",
    "for col in numeric_columns:\n",
    "    if col in emdat_df.columns:\n",
    "        emdat_df[col] = pd.to_numeric(emdat_df[col], errors='coerce')  # Convert to numeric, set errors to NaN\n",
    "    if col in kaggle_df.columns:\n",
    "        kaggle_df[col] = pd.to_numeric(kaggle_df[col], errors='coerce')"
   ]
  },
  {
   "cell_type": "code",
   "execution_count": 81,
   "id": "d6d8b3db",
   "metadata": {},
   "outputs": [
    {
     "name": "stdout",
     "output_type": "stream",
     "text": [
      "Updated df1 column types:\n",
      " DisNo.                                        object\n",
      "Historic                                      object\n",
      "Classification Key                            object\n",
      "Disaster Group                                object\n",
      "Disaster Subgroup                             object\n",
      "Disaster Type                                 object\n",
      "Disaster Subtype                              object\n",
      "External IDs                                  object\n",
      "Event Name                                    object\n",
      "ISO                                           object\n",
      "Country                                       object\n",
      "Subregion                                     object\n",
      "Region                                        object\n",
      "Location                                      object\n",
      "Origin                                        object\n",
      "Associated Types                              object\n",
      "OFDA/BHA Response                             object\n",
      "Appeal                                        object\n",
      "Declaration                                   object\n",
      "AID Contribution ('000 US$)                  float64\n",
      "Magnitude                                    float64\n",
      "Magnitude Scale                               object\n",
      "Latitude                                     float64\n",
      "Longitude                                    float64\n",
      "River Basin                                   object\n",
      "Start Year                                     int64\n",
      "Start Month                                  float64\n",
      "Start Day                                    float64\n",
      "End Year                                       int64\n",
      "End Month                                    float64\n",
      "End Day                                      float64\n",
      "Total Deaths                                 float64\n",
      "No. Injured                                  float64\n",
      "No. Affected                                 float64\n",
      "No. Homeless                                 float64\n",
      "Total Affected                               float64\n",
      "Reconstruction Costs ('000 US$)              float64\n",
      "Reconstruction Costs, Adjusted ('000 US$)    float64\n",
      "Insured Damage ('000 US$)                    float64\n",
      "Insured Damage, Adjusted ('000 US$)          float64\n",
      "Total Damage ('000 US$)                      float64\n",
      "Total Damage, Adjusted ('000 US$)            float64\n",
      "CPI                                          float64\n",
      "Admin Units                                   object\n",
      "Entry Date                                    object\n",
      "Last Update                                   object\n",
      "dtype: object\n",
      "Updated df2 column types:\n",
      " Year                           object\n",
      "Seq                             int64\n",
      "Glide                          object\n",
      "Disaster Group                 object\n",
      "Disaster Subgroup              object\n",
      "Disaster Type                  object\n",
      "Disaster Subtype               object\n",
      "Disaster Subsubtype            object\n",
      "Event Name                     object\n",
      "Country                        object\n",
      "ISO                            object\n",
      "Region                         object\n",
      "Continent                      object\n",
      "Location                       object\n",
      "Origin                         object\n",
      "Associated Dis                 object\n",
      "Associated Dis2                object\n",
      "OFDA Response                  object\n",
      "Appeal                         object\n",
      "Declaration                    object\n",
      "Aid Contribution              float64\n",
      "Dis Mag Value                 float64\n",
      "Dis Mag Scale                  object\n",
      "Latitude                      float64\n",
      "Longitude                     float64\n",
      "Local Time                     object\n",
      "River Basin                    object\n",
      "Start Year                      int64\n",
      "Start Month                   float64\n",
      "Start Day                     float64\n",
      "End Year                        int64\n",
      "End Month                     float64\n",
      "End Day                       float64\n",
      "Total Deaths                  float64\n",
      "No Injured                    float64\n",
      "No Affected                   float64\n",
      "No Homeless                   float64\n",
      "Total Affected                float64\n",
      "Insured Damages ('000 US$)    float64\n",
      "Total Damages ('000 US$)      float64\n",
      "CPI                           float64\n",
      "Adm Level                      object\n",
      "Admin1 Code                    object\n",
      "Admin2 Code                    object\n",
      "Geo Locations                  object\n",
      "dtype: object\n"
     ]
    }
   ],
   "source": [
    "string_columns = [\"Year\", \"Disaster Group\", \"Disaster Subgroup\", \"Disaster Type\", \"ISO\", \"Magnitude Scale\"]\n",
    "\n",
    "for col in string_columns:\n",
    "    if col in emdat_df.columns:\n",
    "        emdat_df[col] = emdat_df[col].astype(str).str.strip()  # Ensure string format\n",
    "    if col in kaggle_df.columns:\n",
    "        kaggle_df[col] = kaggle_df[col].astype(str).str.strip()\n",
    "\n",
    "print(\"Updated df1 column types:\\n\", emdat_df.dtypes)\n",
    "print(\"Updated df2 column types:\\n\",kaggle_df.dtypes)"
   ]
  },
  {
   "cell_type": "markdown",
   "id": "de665b7d",
   "metadata": {},
   "source": [
    "### 4. Data Intergration"
   ]
  },
  {
   "cell_type": "code",
   "execution_count": 82,
   "id": "95f6bcfd",
   "metadata": {},
   "outputs": [],
   "source": [
    "emdat_df['DisNo.'] = emdat_df['DisNo.'].astype(str).str[:4]\n",
    "\n",
    "emdat_df.rename(columns={'DisNo.': 'Year'}, inplace=True)\n",
    "emdat_df.rename(columns={\"Total Damage, Adjusted ('000 US$)\": \"Total Damages ('000 US$)\"}, inplace=True)\n",
    "\n",
    "kaggle_df.rename(columns={'Dis Mag Value': 'Magnitude'}, inplace=True)\n",
    "kaggle_df.rename(columns={'Dis Mag Scale': 'Magnitude Scale'}, inplace=True)\n",
    "kaggle_df.rename(columns={'No Injured': 'No. Injured'}, inplace=True)\n",
    "kaggle_df.rename(columns={'No Affected': 'No. Affected'}, inplace=True)\n",
    "kaggle_df.rename(columns={'No Homeless': 'No. Homeless'}, inplace=True)\n"
   ]
  },
  {
   "cell_type": "code",
   "execution_count": 83,
   "id": "859bf58e",
   "metadata": {},
   "outputs": [
    {
     "name": "stdout",
     "output_type": "stream",
     "text": [
      "       Year Disaster Group Disaster Subgroup Disaster Type  ISO  Latitude  \\\n",
      "0      1999        Natural    Climatological       Drought  DJI       NaN   \n",
      "1      1999        Natural    Climatological       Drought  SDN       NaN   \n",
      "2      1999        Natural    Climatological       Drought  SOM       NaN   \n",
      "3      2000  Technological         Transport          Road  AGO       NaN   \n",
      "4      2000        Natural      Hydrological         Flood  AGO       NaN   \n",
      "...     ...            ...               ...           ...  ...       ...   \n",
      "32225  2021        Natural      Hydrological         Flood  YEM       NaN   \n",
      "32226  2021        Natural      Hydrological         Flood  ZAF       NaN   \n",
      "32227  2021        Natural        Biological      Epidemic  COD       NaN   \n",
      "32228  2021        Natural      Hydrological         Flood  SRB       NaN   \n",
      "32229  2021        Natural      Hydrological         Flood  SSD       NaN   \n",
      "\n",
      "       Longitude  Start Year  Start Month  Start Day  ...  End Day  \\\n",
      "0            NaN        2001          6.0        NaN  ...      NaN   \n",
      "1            NaN        2000          1.0        NaN  ...      NaN   \n",
      "2            NaN        2000          1.0        NaN  ...      NaN   \n",
      "3            NaN        2000          1.0       26.0  ...     26.0   \n",
      "4            NaN        2000          1.0        8.0  ...     15.0   \n",
      "...          ...         ...          ...        ...  ...      ...   \n",
      "32225        NaN        2021          7.0       16.0  ...      7.0   \n",
      "32226        NaN        2021          2.0        1.0  ...     15.0   \n",
      "32227        NaN        2021          9.0        7.0  ...     13.0   \n",
      "32228        NaN        2021          1.0       11.0  ...     12.0   \n",
      "32229        NaN        2021          5.0        NaN  ...      7.0   \n",
      "\n",
      "       Total Deaths  No. Injured  No. Affected  No. Homeless  Total Affected  \\\n",
      "0               NaN          NaN      100000.0           NaN        100000.0   \n",
      "1               NaN          NaN     2000000.0           NaN       2000000.0   \n",
      "2              21.0          NaN     1200000.0           NaN       1200000.0   \n",
      "3              14.0         11.0           NaN           NaN            11.0   \n",
      "4              31.0          NaN       70000.0           NaN         70000.0   \n",
      "...             ...          ...           ...           ...             ...   \n",
      "32225          11.0          NaN       67980.0           NaN         67980.0   \n",
      "32226          31.0          NaN         400.0           NaN           400.0   \n",
      "32227         131.0        301.0           NaN           NaN           301.0   \n",
      "32228           NaN          NaN          22.0           NaN            22.0   \n",
      "32229           7.0          NaN      500000.0           NaN        500000.0   \n",
      "\n",
      "       Total Damages ('000 US$)        CPI  Magnitude  Magnitude Scale  \n",
      "0                           NaN  58.111474        NaN              Km2  \n",
      "1                           NaN  56.514291        NaN              Km2  \n",
      "2                           NaN  56.514291        NaN              Km2  \n",
      "3                           NaN  56.514291        NaN              nan  \n",
      "4                       17695.0  56.514291    47000.0              Km2  \n",
      "...                         ...        ...        ...              ...  \n",
      "32225                       NaN        NaN        NaN              Km2  \n",
      "32226                   75000.0        NaN        NaN              Km2  \n",
      "32227                       NaN        NaN        NaN       Vaccinated  \n",
      "32228                       NaN        NaN        NaN              Km2  \n",
      "32229                       NaN        NaN        NaN              Km2  \n",
      "\n",
      "[32230 rows x 22 columns]\n",
      "Rows after combining: 32230\n",
      "Combined data successfully saved!\n"
     ]
    }
   ],
   "source": [
    "import pandas as pd\n",
    "\n",
    "# Example: Columns from df1\n",
    "df1_columns = [\n",
    "    \"Year\", \"Disaster Group\", \"Disaster Subgroup\", \"Disaster Type\", \"ISO\", \n",
    "    \"Latitude\", \"Longitude\", \"Start Year\", \"Start Month\", \"Start Day\", \n",
    "    \"End Year\", \"End Month\", \"End Day\", \"Total Deaths\", \"No. Injured\", \n",
    "    \"No. Affected\", \"No. Homeless\", \"Total Affected\", \"Total Damages ('000 US$)\", \n",
    "    \"CPI\", \"Magnitude\", \"Magnitude Scale\"\n",
    "]\n",
    "\n",
    "# Example: Columns from df2\n",
    "df2_columns = [\n",
    "    \"Year\", \"Disaster Group\", \"Disaster Subgroup\", \"Disaster Type\", \"ISO\", \n",
    "    \"Latitude\", \"Longitude\", \"Start Year\", \"Start Month\", \"Start Day\", \n",
    "    \"End Year\", \"End Month\", \"End Day\", \"Total Deaths\", \"No. Injured\", \n",
    "    \"No. Affected\", \"No. Homeless\", \"Total Affected\", \"Total Damages ('000 US$)\", \n",
    "    \"CPI\", \"Magnitude\", \"Magnitude Scale\"\n",
    "]\n",
    "\n",
    "# Select only the specified columns from both dataframes\n",
    "df1_selected = emdat_df[df1_columns]\n",
    "df2_selected = kaggle_df[df2_columns]\n",
    "\n",
    "# Concatenate the two DataFrames vertically (adding rows)\n",
    "integrated_df = pd.concat([df1_selected, df2_selected], axis=0, ignore_index=True)\n",
    "\n",
    "# Optionally, reset the index if you want a clean index after concatenation\n",
    "integrated_df.reset_index(drop=True, inplace=True)\n",
    "\n",
    "# Display the resulting DataFrame\n",
    "print(integrated_df)\n",
    "\n",
    "# Print number of rows after combining\n",
    "print(f\"Rows after combining: {len(integrated_df)}\")\n",
    "\n",
    "# If the combined data isn't empty, save it\n",
    "if not integrated_df.empty:\n",
    "    integrated_df.to_csv('Datasets/integrated_data.csv', index=False)\n",
    "    print(\"Combined data successfully saved!\")\n",
    "else:\n",
    "    print(\"Combined dataset is empty!\")\n"
   ]
  }
 ],
 "metadata": {
  "kernelspec": {
   "display_name": "Python 3",
   "language": "python",
   "name": "python3"
  },
  "language_info": {
   "codemirror_mode": {
    "name": "ipython",
    "version": 3
   },
   "file_extension": ".py",
   "mimetype": "text/x-python",
   "name": "python",
   "nbconvert_exporter": "python",
   "pygments_lexer": "ipython3",
   "version": "3.12.1"
  }
 },
 "nbformat": 4,
 "nbformat_minor": 5
}
