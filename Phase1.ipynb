{
 "cells": [
  {
   "cell_type": "markdown",
   "id": "98c3c584",
   "metadata": {},
   "source": [
    "# Data Colllection"
   ]
  },
  {
   "cell_type": "markdown",
   "id": "cfd8957e",
   "metadata": {},
   "source": [
    "#### The EM-DAT Public Table is a global disaster database maintained by CRED, tracking natural and technological disasters. It includes data on fatalities, affected populations, and economic damages, and is used for research and disaster management."
   ]
  },
  {
   "cell_type": "code",
   "execution_count": 6,
   "id": "f20b4f6a",
   "metadata": {},
   "outputs": [
    {
     "name": "stdout",
     "output_type": "stream",
     "text": [
      "Collecting openpyxl\n",
      "  Downloading openpyxl-3.1.5-py2.py3-none-any.whl.metadata (2.5 kB)\n",
      "Collecting et-xmlfile (from openpyxl)\n",
      "  Downloading et_xmlfile-2.0.0-py3-none-any.whl.metadata (2.7 kB)\n",
      "Downloading openpyxl-3.1.5-py2.py3-none-any.whl (250 kB)\n",
      "Downloading et_xmlfile-2.0.0-py3-none-any.whl (18 kB)\n",
      "Installing collected packages: et-xmlfile, openpyxl\n",
      "Successfully installed et-xmlfile-2.0.0 openpyxl-3.1.5\n",
      "\n",
      "\u001b[1m[\u001b[0m\u001b[34;49mnotice\u001b[0m\u001b[1;39;49m]\u001b[0m\u001b[39;49m A new release of pip is available: \u001b[0m\u001b[31;49m24.3.1\u001b[0m\u001b[39;49m -> \u001b[0m\u001b[32;49m25.0\u001b[0m\n",
      "\u001b[1m[\u001b[0m\u001b[34;49mnotice\u001b[0m\u001b[1;39;49m]\u001b[0m\u001b[39;49m To update, run: \u001b[0m\u001b[32;49mpython3 -m pip install --upgrade pip\u001b[0m\n"
     ]
    }
   ],
   "source": [
    "!pip install openpyxl"
   ]
  },
  {
   "cell_type": "code",
   "execution_count": 8,
   "id": "6134a5e6",
   "metadata": {},
   "outputs": [
    {
     "name": "stdout",
     "output_type": "stream",
     "text": [
      "          DisNo. Historic Classification Key Disaster Group Disaster Subgroup  \\\n",
      "0  1999-9388-DJI       No    nat-cli-dro-dro        Natural    Climatological   \n",
      "1  1999-9388-SDN       No    nat-cli-dro-dro        Natural    Climatological   \n",
      "2  1999-9388-SOM       No    nat-cli-dro-dro        Natural    Climatological   \n",
      "3  2000-0001-AGO       No    tec-tra-roa-roa  Technological         Transport   \n",
      "4  2000-0002-AGO       No    nat-hyd-flo-riv        Natural      Hydrological   \n",
      "\n",
      "  Disaster Type Disaster Subtype External IDs Event Name  ISO  ...  \\\n",
      "0       Drought          Drought          NaN        NaN  DJI  ...   \n",
      "1       Drought          Drought          NaN        NaN  SDN  ...   \n",
      "2       Drought          Drought          NaN        NaN  SOM  ...   \n",
      "3          Road             Road          NaN        NaN  AGO  ...   \n",
      "4         Flood   Riverine flood          NaN        NaN  AGO  ...   \n",
      "\n",
      "  Reconstruction Costs ('000 US$) Reconstruction Costs, Adjusted ('000 US$)  \\\n",
      "0                             NaN                                       NaN   \n",
      "1                             NaN                                       NaN   \n",
      "2                             NaN                                       NaN   \n",
      "3                             NaN                                       NaN   \n",
      "4                             NaN                                       NaN   \n",
      "\n",
      "  Insured Damage ('000 US$) Insured Damage, Adjusted ('000 US$)  \\\n",
      "0                       NaN                                 NaN   \n",
      "1                       NaN                                 NaN   \n",
      "2                       NaN                                 NaN   \n",
      "3                       NaN                                 NaN   \n",
      "4                       NaN                                 NaN   \n",
      "\n",
      "  Total Damage ('000 US$) Total Damage, Adjusted ('000 US$)        CPI  \\\n",
      "0                     NaN                               NaN  58.111474   \n",
      "1                     NaN                               NaN  56.514291   \n",
      "2                     NaN                               NaN  56.514291   \n",
      "3                     NaN                               NaN  56.514291   \n",
      "4                 10000.0                           17695.0  56.514291   \n",
      "\n",
      "                                         Admin Units  Entry Date  Last Update  \n",
      "0  [{\"adm1_code\":1093,\"adm1_name\":\"Ali Sabieh\"},{...  2006-03-01   2023-09-25  \n",
      "1  [{\"adm1_code\":2757,\"adm1_name\":\"Northern Darfu...  2006-03-08   2023-09-25  \n",
      "2  [{\"adm1_code\":2691,\"adm1_name\":\"Bay\"},{\"adm1_c...  2006-03-08   2023-09-25  \n",
      "3                                                NaN  2004-10-27   2023-09-25  \n",
      "4  [{\"adm2_code\":4214,\"adm2_name\":\"Baia Farta\"},{...  2005-02-03   2023-09-25  \n",
      "\n",
      "[5 rows x 46 columns]\n"
     ]
    }
   ],
   "source": [
    "import pandas as pd\n",
    "\n",
    "df1 = pd.read_excel(\"Datasets/emdat.xlsx\")\n",
    "print(df1.head())"
   ]
  }
 ],
 "metadata": {
  "kernelspec": {
   "display_name": "Python 3",
   "language": "python",
   "name": "python3"
  },
  "language_info": {
   "codemirror_mode": {
    "name": "ipython",
    "version": 3
   },
   "file_extension": ".py",
   "mimetype": "text/x-python",
   "name": "python",
   "nbconvert_exporter": "python",
   "pygments_lexer": "ipython3",
   "version": "3.12.1"
  }
 },
 "nbformat": 4,
 "nbformat_minor": 5
}
